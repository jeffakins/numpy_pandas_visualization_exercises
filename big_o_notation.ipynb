{
 "cells": [
  {
   "cell_type": "markdown",
   "id": "32327c88",
   "metadata": {},
   "source": [
    "# More Matplotlib Exercises"
   ]
  },
  {
   "cell_type": "markdown",
   "id": "f93ae5cb",
   "metadata": {},
   "source": [
    "##### 5. Make a new Jupyter notebook named big_o_notation.ipynb\n",
    "\n",
    "- Title your chart \"Big O Notation\"\n",
    "- Label your x axis \"Elements\"\n",
    "- Label your y axis \"Operations\"\n",
    "- Label your curves or make a legend for the curves\n",
    "- Use LaTex notation where possible"
   ]
  },
  {
   "cell_type": "markdown",
   "id": "e5881ac4",
   "metadata": {},
   "source": [
    "##### Curves to graph\n",
    "\n",
    "- y=0n+1 and label the curve \"O(1)\"\n",
    "- y=log(n) and label the curve \"O(log n)\"\n",
    "- y=n and label the curve \"O(n)\"\n",
    "- y=n∗log(n) and label it \"O(n log n)\"\n",
    "- y=n2 and label it \"O(n^2)\"\n",
    "- y=2n and label it \"O(2^n)\"\n",
    "- y=n! and label it \"O(n!)\"\n",
    "- y=nn and label it \"O(n^n)\""
   ]
  },
  {
   "cell_type": "code",
   "execution_count": null,
   "id": "9540061c",
   "metadata": {},
   "outputs": [],
   "source": [
    "plt.figure(figsize=(14, 8))\n",
    "\n",
    "plt.plot(y_sqrt(number_range), c='navy', label='sqrt(x)')\n",
    "plt.plot(y_cube(number_range), c='orange', label='x^3')\n",
    "plt.plot(y_2x(number_range), c='firebrick', label='sqrt(x)')\n",
    "plt.plot(y_frac(number_range), c='tab:purple', label='x^3')\n",
    "\n",
    "plt.legend(loc='upper right')\n",
    "plt.title('Big O Notation')\n",
    "plt.xlabel('Elements')\n",
    "plt.ylabel('Operations')\n",
    "\n",
    "plt.show()"
   ]
  }
 ],
 "metadata": {
  "kernelspec": {
   "display_name": "Python 3",
   "language": "python",
   "name": "python3"
  },
  "language_info": {
   "codemirror_mode": {
    "name": "ipython",
    "version": 3
   },
   "file_extension": ".py",
   "mimetype": "text/x-python",
   "name": "python",
   "nbconvert_exporter": "python",
   "pygments_lexer": "ipython3",
   "version": "3.8.8"
  }
 },
 "nbformat": 4,
 "nbformat_minor": 5
}
