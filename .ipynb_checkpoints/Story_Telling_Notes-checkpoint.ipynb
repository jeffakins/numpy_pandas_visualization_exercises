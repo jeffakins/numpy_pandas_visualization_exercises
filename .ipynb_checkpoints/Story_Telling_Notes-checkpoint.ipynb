{
 "cells": [
  {
   "cell_type": "markdown",
   "id": "7583e573",
   "metadata": {},
   "source": [
    "# Story Telling Notes"
   ]
  },
  {
   "cell_type": "markdown",
   "id": "480b2aea",
   "metadata": {},
   "source": [
    "### 1. Setup\n",
    "    - The 'before' state of the data"
   ]
  },
  {
   "cell_type": "markdown",
   "id": "ab78d3c7",
   "metadata": {},
   "source": [
    "### 2. Conflict\n",
    "    - How the data changes\n",
    "    - Ask, \"What is causing this change?\""
   ]
  },
  {
   "cell_type": "markdown",
   "id": "8e8cd5d7",
   "metadata": {},
   "source": [
    "### 3. Resolution\n",
    "    - The 'after' state that the change leads to"
   ]
  },
  {
   "cell_type": "code",
   "execution_count": null,
   "id": "78815650",
   "metadata": {},
   "outputs": [],
   "source": []
  }
 ],
 "metadata": {
  "kernelspec": {
   "display_name": "Python 3",
   "language": "python",
   "name": "python3"
  },
  "language_info": {
   "codemirror_mode": {
    "name": "ipython",
    "version": 3
   },
   "file_extension": ".py",
   "mimetype": "text/x-python",
   "name": "python",
   "nbconvert_exporter": "python",
   "pygments_lexer": "ipython3",
   "version": "3.8.8"
  }
 },
 "nbformat": 4,
 "nbformat_minor": 5
}
