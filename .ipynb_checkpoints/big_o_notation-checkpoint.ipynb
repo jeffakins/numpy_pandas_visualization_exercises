{
 "cells": [
  {
   "cell_type": "markdown",
   "id": "32327c88",
   "metadata": {},
   "source": [
    "# More Matplotlib Exercises"
   ]
  },
  {
   "cell_type": "markdown",
   "id": "f93ae5cb",
   "metadata": {},
   "source": [
    "##### 5. Make a new Jupyter notebook named big_o_notation.ipynb\n",
    "\n",
    "- Title your chart \"Big O Notation\"\n",
    "- Label your x axis \"Elements\"\n",
    "- Label your y axis \"Operations\"\n",
    "- Label your curves or make a legend for the curves\n",
    "- Use LaTex notation where possible"
   ]
  },
  {
   "cell_type": "markdown",
   "id": "e5881ac4",
   "metadata": {},
   "source": [
    "##### Curves to graph\n",
    "\n",
    "- y=0n+1 and label the curve \"O(1)\"\n",
    "- y=log(n) and label the curve \"O(log n)\"\n",
    "- y=n and label the curve \"O(n)\"\n",
    "- y=n∗log(n) and label it \"O(n log n)\"\n",
    "- y=n2 and label it \"O(n^2)\"\n",
    "- y=2n and label it \"O(2^n)\"\n",
    "- y=n! and label it \"O(n!)\"\n",
    "- y=nn and label it \"O(n^n)\""
   ]
  },
  {
   "cell_type": "code",
   "execution_count": 16,
   "id": "263062ae",
   "metadata": {},
   "outputs": [],
   "source": [
    "import matplotlib.pyplot as plt\n",
    "import pandas as pd\n",
    "import math"
   ]
  },
  {
   "cell_type": "code",
   "execution_count": 18,
   "id": "e24d5536",
   "metadata": {},
   "outputs": [],
   "source": [
    "def f1(n):\n",
    "    return 0*n +1"
   ]
  },
  {
   "cell_type": "code",
   "execution_count": 27,
   "id": "14b5b0eb",
   "metadata": {},
   "outputs": [],
   "source": [
    "def f2(n):\n",
    "    return math.log(n)"
   ]
  },
  {
   "cell_type": "code",
   "execution_count": 20,
   "id": "a0bf6cb7",
   "metadata": {},
   "outputs": [],
   "source": [
    "def f3(n):\n",
    "    return n"
   ]
  },
  {
   "cell_type": "code",
   "execution_count": 28,
   "id": "3e6325d3",
   "metadata": {},
   "outputs": [],
   "source": [
    "def f4(n):\n",
    "    return n*math.log(n)"
   ]
  },
  {
   "cell_type": "code",
   "execution_count": 22,
   "id": "a5ca5d0e",
   "metadata": {},
   "outputs": [],
   "source": [
    "def f5(n):\n",
    "    return n**2"
   ]
  },
  {
   "cell_type": "code",
   "execution_count": 23,
   "id": "109b5c17",
   "metadata": {},
   "outputs": [],
   "source": [
    "def f6(n):\n",
    "    return 2*n"
   ]
  },
  {
   "cell_type": "code",
   "execution_count": 35,
   "id": "02471627",
   "metadata": {},
   "outputs": [],
   "source": [
    "def f7(n):\n",
    "    return math.factorial(n)"
   ]
  },
  {
   "cell_type": "code",
   "execution_count": 25,
   "id": "bf097817",
   "metadata": {},
   "outputs": [],
   "source": [
    "def f8(n):\n",
    "    return n*n"
   ]
  },
  {
   "cell_type": "code",
   "execution_count": 36,
   "id": "9540061c",
   "metadata": {
    "scrolled": true
   },
   "outputs": [
    {
     "data": {
      "image/png": "[encoded data removed]",
      "text/plain": [
       "<Figure size 1008x576 with 1 Axes>"
      ]
     },
     "metadata": {
      "needs_background": "light"
     },
     "output_type": "display_data"
    }
   ],
   "source": [
    "plt.figure(figsize=(14, 8))\n",
    "\n",
    "number_range = pd.Series(list(range(1, 150)))\n",
    "\n",
    "plt.plot(number_range.apply(f1), c='navy', label='O(1)')\n",
    "plt.plot(number_range.apply(f2), c='orange', label='O(log n)')\n",
    "plt.plot(number_range.apply(f3), c='firebrick', label='O(n)')\n",
    "plt.plot(number_range.apply(f4), c='tab:purple', label='O(n log n)')\n",
    "plt.plot(number_range.apply(f5), c='tab:blue', label='O(n^2)')\n",
    "plt.plot(number_range.apply(f6), c='tab:green', label='O(2^n)')\n",
    "plt.plot(number_range.apply(f7), c='tab:orange', label='O(n!)')\n",
    "plt.plot(number_range.apply(f8), c='tab:cyan', label='O(n^n)')\n",
    "\n",
    "plt.legend(loc='upper right')\n",
    "plt.title('Big O Notation')\n",
    "plt.xlabel('Elements')\n",
    "plt.ylabel('Operations')\n",
    "\n",
    "plt.show()"
   ]
  },
  {
   "cell_type": "code",
   "execution_count": null,
   "id": "18e66af0",
   "metadata": {},
   "outputs": [],
   "source": []
  }
 ],
 "metadata": {
  "kernelspec": {
   "display_name": "Python 3",
   "language": "python",
   "name": "python3"
  },
  "language_info": {
   "codemirror_mode": {
    "name": "ipython",
    "version": 3
   },
   "file_extension": ".py",
   "mimetype": "text/x-python",
   "name": "python",
   "nbconvert_exporter": "python",
   "pygments_lexer": "ipython3",
   "version": "3.8.8"
  }
 },
 "nbformat": 4,
 "nbformat_minor": 5
}
