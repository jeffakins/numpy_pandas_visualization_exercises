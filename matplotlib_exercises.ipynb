{
 "cells": [
  {
   "cell_type": "markdown",
   "id": "b70c97db",
   "metadata": {},
   "source": [
    "# Matplotlib Exercises"
   ]
  },
  {
   "cell_type": "markdown",
   "id": "cb596775",
   "metadata": {},
   "source": [
    "### 1. Use matplotlib to plot the following equation:\n",
    "\n",
    "y=x2−x+2\n",
    "You'll need to write the code that generates the x and y points.\n",
    "Add an anotation for the point 0, 0, the origin."
   ]
  },
  {
   "cell_type": "code",
   "execution_count": null,
   "id": "080f452a",
   "metadata": {},
   "outputs": [],
   "source": []
  }
 ],
 "metadata": {
  "kernelspec": {
   "display_name": "Python 3",
   "language": "python",
   "name": "python3"
  },
  "language_info": {
   "codemirror_mode": {
    "name": "ipython",
    "version": 3
   },
   "file_extension": ".py",
   "mimetype": "text/x-python",
   "name": "python",
   "nbconvert_exporter": "python",
   "pygments_lexer": "ipython3",
   "version": "3.8.8"
  }
 },
 "nbformat": 4,
 "nbformat_minor": 5
}
